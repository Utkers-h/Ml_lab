{
 "cells": [
  {
   "cell_type": "code",
   "execution_count": 2,
   "id": "b38260a5-a03f-404a-bbfb-023205c3e8c2",
   "metadata": {},
   "outputs": [
    {
     "name": "stdout",
     "output_type": "stream",
     "text": [
      "[1 2 3]\n"
     ]
    }
   ],
   "source": [
    "import numpy as np\n",
    "\n",
    "a = np.array([1,2,3])\n",
    "print(a)\n"
   ]
  },
  {
   "cell_type": "code",
   "execution_count": 11,
   "id": "1106b000-8e8c-430c-941e-3f55205f60de",
   "metadata": {},
   "outputs": [
    {
     "name": "stdout",
     "output_type": "stream",
     "text": [
      "[[1.4 5.6 9.9]\n",
      " [3.  2.4 2.8]]\n",
      "6\n"
     ]
    },
    {
     "data": {
      "text/plain": [
       "(3,)"
      ]
     },
     "execution_count": 11,
     "metadata": {},
     "output_type": "execute_result"
    }
   ],
   "source": [
    "b=np.array([[1.4,5.6,9.9],[3.0,2.4,2.8]])\n",
    "print(b)\n",
    "print(b.size)\n",
    "\n",
    "#Get dimensions\n",
    "b.ndim\n",
    "#get shape\n",
    "b.shape\n",
    "a.shape\n"
   ]
  },
  {
   "cell_type": "code",
   "execution_count": 13,
   "id": "4b8fa556-e881-430f-80d0-7c84b5b746b2",
   "metadata": {},
   "outputs": [
    {
     "data": {
      "text/plain": [
       "dtype('int32')"
      ]
     },
     "execution_count": 13,
     "metadata": {},
     "output_type": "execute_result"
    }
   ],
   "source": [
    "#Get data  type\n",
    "a.dtype"
   ]
  },
  {
   "cell_type": "code",
   "execution_count": 17,
   "id": "41e7e7c1-04b6-4a8a-af71-d410118b5d71",
   "metadata": {},
   "outputs": [
    {
     "data": {
      "text/plain": [
       "12"
      ]
     },
     "execution_count": 17,
     "metadata": {},
     "output_type": "execute_result"
    }
   ],
   "source": [
    "#Get total size\n",
    "# a.itemsize * a.size\n",
    "a.nbytes"
   ]
  },
  {
   "cell_type": "markdown",
   "id": "d1da007b-e03d-4dd8-b183-3605ede2a6d4",
   "metadata": {},
   "source": [
    "# Accessing/Changing specific elements, rows, columns, etc"
   ]
  },
  {
   "cell_type": "code",
   "execution_count": 18,
   "id": "6cd0d8db-194d-4445-8dc1-09c06f6ba908",
   "metadata": {},
   "outputs": [
    {
     "name": "stdout",
     "output_type": "stream",
     "text": [
      "[[ 1  2  3  4  5  6  7]\n",
      " [ 8  9 10 11 12 13 14]]\n"
     ]
    }
   ],
   "source": [
    "a = np.array([[1,2,3,4,5,6,7],[8,9,10,11,12,13,14]])\n",
    "print(a)\n"
   ]
  },
  {
   "cell_type": "code",
   "execution_count": 19,
   "id": "0e1acd38-2216-4e2f-80ef-d733eccb71cd",
   "metadata": {},
   "outputs": [
    {
     "data": {
      "text/plain": [
       "(2, 7)"
      ]
     },
     "execution_count": 19,
     "metadata": {},
     "output_type": "execute_result"
    }
   ],
   "source": [
    "a.shape\n"
   ]
  },
  {
   "cell_type": "code",
   "execution_count": 35,
   "id": "ee0044ed-7922-413c-891d-fe573eed7739",
   "metadata": {},
   "outputs": [
    {
     "data": {
      "text/plain": [
       "89"
      ]
     },
     "execution_count": 35,
     "metadata": {},
     "output_type": "execute_result"
    }
   ],
   "source": [
    "#Get specific element [r,c]\n",
    "a[1,4]\n",
    "a[1,-3]\n",
    "# a[0][3]"
   ]
  },
  {
   "cell_type": "code",
   "execution_count": 22,
   "id": "eb09af3d-2492-45cb-88ba-156ebf4e4c24",
   "metadata": {},
   "outputs": [
    {
     "data": {
      "text/plain": [
       "array([1, 2, 3, 4, 5, 6, 7])"
      ]
     },
     "execution_count": 22,
     "metadata": {},
     "output_type": "execute_result"
    }
   ],
   "source": [
    "#get specific row\n",
    "a[0,:]"
   ]
  },
  {
   "cell_type": "code",
   "execution_count": 23,
   "id": "96662190-87a5-4465-ac26-a676178e484f",
   "metadata": {},
   "outputs": [
    {
     "data": {
      "text/plain": [
       "array([ 5, 12])"
      ]
     },
     "execution_count": 23,
     "metadata": {},
     "output_type": "execute_result"
    }
   ],
   "source": [
    "#Get specific column\n",
    "a[:,4]"
   ]
  },
  {
   "cell_type": "code",
   "execution_count": 25,
   "id": "846dc951-d383-4731-b67b-0f7e89f6234c",
   "metadata": {},
   "outputs": [
    {
     "data": {
      "text/plain": [
       "array([2, 4, 6])"
      ]
     },
     "execution_count": 25,
     "metadata": {},
     "output_type": "execute_result"
    }
   ],
   "source": [
    "#start index:endindex:stepsize\n",
    "a[0,1:6:2]"
   ]
  },
  {
   "cell_type": "code",
   "execution_count": 32,
   "id": "64f9194b-965d-4031-a18f-ee2462a1a4ee",
   "metadata": {},
   "outputs": [
    {
     "name": "stdout",
     "output_type": "stream",
     "text": [
      "[[ 1  2  0  4  5  6  7]\n",
      " [ 8  9 -1 11 89 13 14]]\n",
      "[[ 1  2  0  4  5  6  7]\n",
      " [ 8  9 -1 11 89 13 14]]\n"
     ]
    }
   ],
   "source": [
    "#Changing elements\n",
    "a[1,4]=89\n",
    "print(a)\n",
    "\n",
    "#for changing entire col\n",
    "a[:,2]=[0,-1]\n",
    "print(a)"
   ]
  },
  {
   "cell_type": "code",
   "execution_count": 41,
   "id": "cc8bb099-fe4f-48fa-bb7a-1949d22dd277",
   "metadata": {},
   "outputs": [
    {
     "data": {
      "text/plain": [
       "array([[0, 0, 0],\n",
       "       [0, 0, 0],\n",
       "       [0, 0, 0]])"
      ]
     },
     "execution_count": 41,
     "metadata": {},
     "output_type": "execute_result"
    }
   ],
   "source": [
    "#all 0s matrix\n",
    "np.zeros(4)\n",
    "np.zeros((3,3),dtype='int')"
   ]
  },
  {
   "cell_type": "code",
   "execution_count": 43,
   "id": "ce310bdb-f828-49a6-bc3d-4e70e7d239f9",
   "metadata": {},
   "outputs": [
    {
     "data": {
      "text/plain": [
       "array([[1, 1, 1, 1],\n",
       "       [1, 1, 1, 1],\n",
       "       [1, 1, 1, 1]])"
      ]
     },
     "execution_count": 43,
     "metadata": {},
     "output_type": "execute_result"
    }
   ],
   "source": [
    "#all ones matrix\n",
    "np.ones((3,4),dtype='int')"
   ]
  },
  {
   "cell_type": "code",
   "execution_count": 46,
   "id": "40879a29-6557-4ac8-89e8-637e2e0ff231",
   "metadata": {},
   "outputs": [
    {
     "data": {
      "text/plain": [
       "array([[99., 99.],\n",
       "       [99., 99.]], dtype=float32)"
      ]
     },
     "execution_count": 46,
     "metadata": {},
     "output_type": "execute_result"
    }
   ],
   "source": [
    "#any other number\n",
    "np.full((2,2),99,dtype='float32')"
   ]
  },
  {
   "cell_type": "code",
   "execution_count": 48,
   "id": "38a76a5f-1709-47c7-bea7-f5f16d9d7110",
   "metadata": {},
   "outputs": [
    {
     "data": {
      "text/plain": [
       "array([[21, 21, 21, 21, 21, 21, 21],\n",
       "       [21, 21, 21, 21, 21, 21, 21]])"
      ]
     },
     "execution_count": 48,
     "metadata": {},
     "output_type": "execute_result"
    }
   ],
   "source": [
    "#full like method\n",
    "np.full_like(a,21)"
   ]
  },
  {
   "cell_type": "code",
   "execution_count": 49,
   "id": "9792938b-c04a-4dee-95fa-cb24368d99e0",
   "metadata": {},
   "outputs": [
    {
     "data": {
      "text/plain": [
       "array([[0.14733137, 0.00527015],\n",
       "       [0.89984631, 0.80834641],\n",
       "       [0.83354659, 0.85653477]])"
      ]
     },
     "execution_count": 49,
     "metadata": {},
     "output_type": "execute_result"
    }
   ],
   "source": [
    "#Random numbers\n",
    "np.random.rand(3,2)"
   ]
  },
  {
   "cell_type": "code",
   "execution_count": 53,
   "id": "3e9caa84-a9c2-4016-9010-95226d30122a",
   "metadata": {},
   "outputs": [
    {
     "data": {
      "text/plain": [
       "array([[4, 2, 6],\n",
       "       [6, 4, 6]])"
      ]
     },
     "execution_count": 53,
     "metadata": {},
     "output_type": "execute_result"
    }
   ],
   "source": [
    "#random integer values\n",
    "np.random.randint(1,7,size=(2,3))"
   ]
  },
  {
   "cell_type": "code",
   "execution_count": 56,
   "id": "abd48cf4-7a63-4331-be31-0da0bd862bf3",
   "metadata": {},
   "outputs": [
    {
     "data": {
      "text/plain": [
       "array([[1., 0., 0., 0.],\n",
       "       [0., 1., 0., 0.],\n",
       "       [0., 0., 1., 0.],\n",
       "       [0., 0., 0., 1.]])"
      ]
     },
     "execution_count": 56,
     "metadata": {},
     "output_type": "execute_result"
    }
   ],
   "source": [
    "#identity matrix\n",
    "np.identity(4)"
   ]
  },
  {
   "cell_type": "code",
   "execution_count": 63,
   "id": "eed6bb89-f72c-4fa1-b32f-64943eee707b",
   "metadata": {},
   "outputs": [
    {
     "data": {
      "text/plain": [
       "array([2, 3, 4])"
      ]
     },
     "execution_count": 63,
     "metadata": {},
     "output_type": "execute_result"
    }
   ],
   "source": [
    "#copy an array\n",
    "a= np.array([2,3,4])\n",
    "#If we don't use the copy function , then both will point to the same array , \n",
    "# hence changing value of b also changes a\n",
    "b=a.copy()\n",
    "b[0]=43\n",
    "b\n"
   ]
  },
  {
   "cell_type": "markdown",
   "id": "8be9f047-fb7e-4ca6-a470-72556dde2bc3",
   "metadata": {},
   "source": [
    "# Maths"
   ]
  },
  {
   "cell_type": "code",
   "execution_count": 64,
   "id": "739734d1-e674-4c86-857d-47c1d4c1d4d8",
   "metadata": {},
   "outputs": [
    {
     "name": "stdout",
     "output_type": "stream",
     "text": [
      "[2 4 5 6]\n"
     ]
    }
   ],
   "source": [
    "a=np.array([2,4,5,6])\n",
    "print(a)"
   ]
  },
  {
   "cell_type": "code",
   "execution_count": 65,
   "id": "14c82546-7c03-4d75-bc5c-53efcc44dc19",
   "metadata": {},
   "outputs": [
    {
     "data": {
      "text/plain": [
       "array([ 4,  8, 10, 12])"
      ]
     },
     "execution_count": 65,
     "metadata": {},
     "output_type": "execute_result"
    }
   ],
   "source": [
    "a*2"
   ]
  },
  {
   "cell_type": "code",
   "execution_count": 67,
   "id": "0361d91f-6e7a-4948-b587-884ffaf743a3",
   "metadata": {},
   "outputs": [
    {
     "data": {
      "text/plain": [
       "array([1. , 2. , 2.5, 3. ])"
      ]
     },
     "execution_count": 67,
     "metadata": {},
     "output_type": "execute_result"
    }
   ],
   "source": [
    "a/2"
   ]
  },
  {
   "cell_type": "code",
   "execution_count": 68,
   "id": "517556ea-bb9a-4214-ac19-e2a0b25a4b45",
   "metadata": {},
   "outputs": [
    {
     "data": {
      "text/plain": [
       "array([0, 2, 3, 4])"
      ]
     },
     "execution_count": 68,
     "metadata": {},
     "output_type": "execute_result"
    }
   ],
   "source": [
    "a-2"
   ]
  },
  {
   "cell_type": "code",
   "execution_count": 69,
   "id": "8ba3377e-3339-4847-8276-4d9fc6fb8770",
   "metadata": {},
   "outputs": [
    {
     "data": {
      "text/plain": [
       "array([ 0.90929743, -0.7568025 , -0.95892427, -0.2794155 ])"
      ]
     },
     "execution_count": 69,
     "metadata": {},
     "output_type": "execute_result"
    }
   ],
   "source": [
    "np.sin(a)"
   ]
  },
  {
   "cell_type": "code",
   "execution_count": null,
   "id": "45a06eac-6e87-4be1-b8a5-9f32180ca861",
   "metadata": {},
   "outputs": [],
   "source": []
  }
 ],
 "metadata": {
  "kernelspec": {
   "display_name": "Python 3 (ipykernel)",
   "language": "python",
   "name": "python3"
  },
  "language_info": {
   "codemirror_mode": {
    "name": "ipython",
    "version": 3
   },
   "file_extension": ".py",
   "mimetype": "text/x-python",
   "name": "python",
   "nbconvert_exporter": "python",
   "pygments_lexer": "ipython3",
   "version": "3.11.7"
  }
 },
 "nbformat": 4,
 "nbformat_minor": 5
}
